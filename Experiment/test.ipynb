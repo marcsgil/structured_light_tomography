{
 "cells": [
  {
   "cell_type": "code",
   "execution_count": null,
   "metadata": {},
   "outputs": [],
   "source": [
    "# Import everything from slmcontrol\n",
    "#from slmcontrol import *\n",
    "from cameras.Ximea import XimeaCamera\n",
    "import matplotlib.pyplot as plt\n",
    "#from partially_coherent_sources import generate_masks\n",
    "from tqdm import trange\n",
    "import h5py\n",
    "\n",
    "# Initialize our slm display\n",
    "#slm = SLMdisplay(monitor=1)\n",
    "\n",
    "# Constructs a grid that is defined by the size and resolution of the SLM\n",
    "#x, y = build_grid(15.36, 8.64, 1920, 1080)"
   ]
  },
  {
   "cell_type": "code",
   "execution_count": null,
   "metadata": {},
   "outputs": [],
   "source": [
    "from juliacall import Main as jl\n",
    "jl.seval(\"using SpatialLightModulator, StructuredLight\")\n",
    "slm = jl.SLM()"
   ]
  },
  {
   "cell_type": "code",
   "execution_count": null,
   "metadata": {},
   "outputs": [],
   "source": [
    "slm = jl.SLM()\n",
    "\n",
    "width = 15.36\n",
    "height = 8.64\n",
    "resX = 1920\n",
    "resY = 1080\n",
    "\n",
    "x = jl.LinRange(-width / 2, width / 2, resX)\n",
    "y = jl.LinRange(-height / 2, height / 2, resY)\n",
    "\n",
    "incoming = jl.hg(y, x, w=2.4)\n",
    "desired = jl.hg(y, x, w=0.5, m=10,n=10)\n",
    "\n",
    "holo = jl.generate_hologram(desired, incoming, y, x, 82, 4, 5)\n",
    "jl.SpatialLightModulator.update_hologram(slm, holo)"
   ]
  },
  {
   "cell_type": "code",
   "execution_count": null,
   "metadata": {},
   "outputs": [],
   "source": [
    "camera = XimeaCamera()\n",
    "plt.imshow(camera.capture())\n",
    "camera.close()"
   ]
  },
  {
   "cell_type": "code",
   "execution_count": null,
   "metadata": {},
   "outputs": [],
   "source": [
    "# The input beam, which we assme to be a gaussian\n",
    "incoming = hg(x, y, 0, 0, 2.4)\n",
    "\n",
    "# The beam that we wish to produce. \n",
    "# In this case, a Laguerre-Gaussian with p=0 and l=1\n",
    "desired = lg(x, y, 0, 0, .2)\n",
    "\n",
    "# Generates the hologram that will be shown in the SLM\n",
    "holo = generate_hologram(desired, incoming, x, y, 96, 3, -4, 0, 0)\n",
    "\n",
    "# Displays the generated hologram\n",
    "slm.updateArray(holo)"
   ]
  },
  {
   "cell_type": "code",
   "execution_count": null,
   "metadata": {},
   "outputs": [],
   "source": [
    "from juliacall import Main as jl\n",
    "jl.include(\"test.jl\")\n",
    "\n",
    "_x = jl.vec(jl.Array(x))\n",
    "_y = jl.vec(jl.Array(y))\n",
    "basis = jl.get_basis(_x,_y,2,.2)"
   ]
  },
  {
   "cell_type": "code",
   "execution_count": null,
   "metadata": {},
   "outputs": [],
   "source": [
    "n_masks = 300\n",
    "masks = generate_masks(n_masks, weights, fields, method='phase_randomized')"
   ]
  },
  {
   "cell_type": "code",
   "execution_count": null,
   "metadata": {},
   "outputs": [],
   "source": [
    "camera = ImagingSourceCamera()"
   ]
  },
  {
   "cell_type": "code",
   "execution_count": null,
   "metadata": {},
   "outputs": [],
   "source": [
    "roi = (626,926,175,475)\n",
    "plt.imshow(camera.capture(roi))"
   ]
  },
  {
   "cell_type": "code",
   "execution_count": null,
   "metadata": {},
   "outputs": [],
   "source": [
    "with h5py.File(\"data.h5\",\"w-\") as file:\n",
    "    file[\"calibration\"] = camera.capture(roi)"
   ]
  },
  {
   "cell_type": "code",
   "execution_count": null,
   "metadata": {},
   "outputs": [],
   "source": [
    "n_masks = 150\n",
    "n_modes = 100\n",
    "rhos = jl.sample(jl.GinibreEnsamble(2),n_modes)\n",
    "images = np.empty((n_modes,roi[1]-roi[0],roi[3]-roi[2]))\n",
    "\n",
    "for m in trange(n_modes):\n",
    "    fields, weights = jl.get_fields_and_probs(rhos[:,:,m], basis)\n",
    "    masks = generate_masks(n_masks, weights, fields, method='phase_randomized')\n",
    "\n",
    "    holo = generate_hologram(masks[0], incoming, x, y, 96, 3, -4, 0, 0)\n",
    "    for n in trange(n_masks-1):\n",
    "        slm.updateArray(holo,sleep=0)\n",
    "        holo = generate_hologram(masks[n+1], incoming, x, y, 96, 3, -4, 0, 0)\n",
    "        images[m] += camera.capture(roi)\n",
    "    slm.updateArray(holo)\n",
    "    images[m] += camera.capture(roi)\n",
    "\n",
    "with h5py.File(\"data.h5\",\"w-\") as file:\n",
    "    file[\"images\"] = images\n",
    "    file[\"labels\"] = rhos"
   ]
  },
  {
   "cell_type": "code",
   "execution_count": null,
   "metadata": {},
   "outputs": [],
   "source": [
    "plt.imshow(images.mean(axis=0))"
   ]
  },
  {
   "cell_type": "code",
   "execution_count": null,
   "metadata": {},
   "outputs": [],
   "source": [
    "plt.imshow(images[1,:,:])"
   ]
  },
  {
   "cell_type": "code",
   "execution_count": null,
   "metadata": {},
   "outputs": [],
   "source": [
    "camera.close()"
   ]
  }
 ],
 "metadata": {
  "kernelspec": {
   "display_name": ".venv",
   "language": "python",
   "name": "python3"
  },
  "language_info": {
   "codemirror_mode": {
    "name": "ipython",
    "version": 3
   },
   "file_extension": ".py",
   "mimetype": "text/x-python",
   "name": "python",
   "nbconvert_exporter": "python",
   "pygments_lexer": "ipython3",
   "version": "3.12.3"
  }
 },
 "nbformat": 4,
 "nbformat_minor": 2
}
