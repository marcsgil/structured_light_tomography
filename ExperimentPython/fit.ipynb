{
 "cells": [
  {
   "cell_type": "code",
   "execution_count": 4,
   "metadata": {},
   "outputs": [
    {
     "name": "stdout",
     "output_type": "stream",
     "text": [
      "Optimal parameters: [1.98637284 1.0076197  0.0029871 ]\n"
     ]
    }
   ],
   "source": [
    "import numpy as np\n",
    "from scipy.optimize import curve_fit\n",
    "\n",
    "def func(X, a, b, c):\n",
    "    x,y = X\n",
    "    return a * np.exp(-b * (x**2 + y**2)) + c\n",
    "\n",
    "def surface_fit(x, y, z, initial_guess=(1, 1, 1)):\n",
    "    # Flatten the x, y, and z arrays for curve_fit\n",
    "    xdata = np.vstack((x.ravel(), y.ravel()))\n",
    "    zdata = z.ravel()\n",
    "\n",
    "    # Fit the function to the data\n",
    "    return curve_fit(func, xdata, zdata, p0=initial_guess)\n",
    "\n",
    "# Example usage\n",
    "x = np.linspace(-4, 4, 50)\n",
    "y = np.linspace(-4, 4, 50)\n",
    "x, y = np.meshgrid(x, y)\n",
    "z = func((x, y), 2, 1, 0) + 0.1 * np.random.normal(size=x.shape)\n",
    "\n",
    "popt, pcov = surface_fit(x, y, z)\n",
    "\n",
    "\n",
    "print(\"Optimal parameters:\", popt)"
   ]
  },
  {
   "cell_type": "code",
   "execution_count": 5,
   "metadata": {},
   "outputs": [
    {
     "data": {
      "text/plain": [
       "array([[ True,  True,  True, ..., False, False, False],\n",
       "       [ True,  True,  True, ..., False, False, False],\n",
       "       [ True,  True,  True, ..., False, False, False],\n",
       "       ...,\n",
       "       [ True,  True,  True, ..., False, False, False],\n",
       "       [ True,  True,  True, ..., False, False, False],\n",
       "       [ True,  True,  True, ..., False, False, False]])"
      ]
     },
     "execution_count": 5,
     "metadata": {},
     "output_type": "execute_result"
    }
   ],
   "source": [
    "x < 2"
   ]
  }
 ],
 "metadata": {
  "kernelspec": {
   "display_name": ".venv",
   "language": "python",
   "name": "python3"
  },
  "language_info": {
   "codemirror_mode": {
    "name": "ipython",
    "version": 3
   },
   "file_extension": ".py",
   "mimetype": "text/x-python",
   "name": "python",
   "nbconvert_exporter": "python",
   "pygments_lexer": "ipython3",
   "version": "3.11.7"
  }
 },
 "nbformat": 4,
 "nbformat_minor": 2
}
