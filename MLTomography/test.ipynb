{
 "cells": [
  {
   "cell_type": "code",
   "execution_count": 72,
   "metadata": {},
   "outputs": [],
   "source": [
    "import keras"
   ]
  },
  {
   "cell_type": "code",
   "execution_count": 73,
   "metadata": {},
   "outputs": [],
   "source": [
    "def dot(x,y):\n",
    "    return keras.layers.Dot(axes=1)((x,y))[:,0]\n",
    "\n",
    "def fidelity_loss(y1, y2):\n",
    "    N = y1.shape[1] // 2\n",
    "    r1 = y1[:, :N]\n",
    "    i1 = y1[:, N:]\n",
    "    r2 = y2[:, :N]\n",
    "    i2 = y2[:, N:]\n",
    "\n",
    "    R = (r1*r2 + i1*i2).sum(axis=1)\n",
    "    I = (r1*i2 - r2*i1).sum(axis=1)\n",
    "\n",
    "    return 1 - (R**2 + I**2) / (dot(y1,y1) * dot(y2,y2))"
   ]
  },
  {
   "cell_type": "code",
   "execution_count": 74,
   "metadata": {},
   "outputs": [
    {
     "name": "stdout",
     "output_type": "stream",
     "text": [
      "[0.02103877 0.5607942  0.12458414 0.82411194 0.8510761  0.07913047\n",
      " 0.9515392  0.79905486 0.5410144  0.09822029]\n"
     ]
    }
   ],
   "source": [
    "y1 = keras.random.normal((10,4))\n",
    "y2 = keras.random.normal((10,4))\n",
    "\n",
    "print(fidelity_loss(y1, y2))"
   ]
  },
  {
   "cell_type": "code",
   "execution_count": 76,
   "metadata": {},
   "outputs": [],
   "source": [
    "from keras import ops\n",
    "\n",
    "def my_loss_fn(y_true, y_pred):\n",
    "    squared_difference = ops.square(y_true - y_pred)\n",
    "    return ops.mean(squared_difference, axis=-1)  # Note the `axis=-1`"
   ]
  },
  {
   "cell_type": "code",
   "execution_count": 78,
   "metadata": {},
   "outputs": [
    {
     "data": {
      "text/plain": [
       "(10,)"
      ]
     },
     "execution_count": 78,
     "metadata": {},
     "output_type": "execute_result"
    }
   ],
   "source": [
    "my_loss_fn(y1, y2).shape"
   ]
  }
 ],
 "metadata": {
  "kernelspec": {
   "display_name": ".venv",
   "language": "python",
   "name": "python3"
  },
  "language_info": {
   "codemirror_mode": {
    "name": "ipython",
    "version": 3
   },
   "file_extension": ".py",
   "mimetype": "text/x-python",
   "name": "python",
   "nbconvert_exporter": "python",
   "pygments_lexer": "ipython3",
   "version": "3.12.5"
  }
 },
 "nbformat": 4,
 "nbformat_minor": 2
}
