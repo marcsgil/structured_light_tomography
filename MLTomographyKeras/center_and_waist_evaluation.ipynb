{
 "cells": [
  {
   "cell_type": "code",
   "execution_count": 1,
   "metadata": {},
   "outputs": [
    {
     "name": "stdout",
     "output_type": "stream",
     "text": [
      "[32.695747 32.03257   9.809793]\n",
      "[0.08833644 0.12415245 0.09861618]\n"
     ]
    }
   ],
   "source": [
    "from keras.models import load_model\n",
    "import numpy as np\n",
    "import h5py\n",
    "import keras\n",
    "\n",
    "with h5py.File('../Data/Raw/positive_l.h5') as f:\n",
    "    #x = keras.layers.Resizing(64, 64)(f['images_order5'][:,0,:,:])\n",
    "    x = keras.layers.Resizing(64, 64)(f['images_dim2'][:,:,:])\n",
    "\n",
    "mu = x.mean(axis=(-1, -2), keepdims=True)\n",
    "sigma = x.std(axis=(-1, -2), keepdims=True)\n",
    "x = (x - mu) / sigma\n",
    "x = np.expand_dims(x, axis=1)\n",
    "        \n",
    "model = load_model(\"TrainedModels/center_and_waist.keras\")\n",
    "print(model(x).mean(axis=0))\n",
    "print(model(x).std(axis=0))"
   ]
  },
  {
   "cell_type": "code",
   "execution_count": null,
   "metadata": {},
   "outputs": [],
   "source": []
  }
 ],
 "metadata": {
  "kernelspec": {
   "display_name": ".venv",
   "language": "python",
   "name": "python3"
  },
  "language_info": {
   "codemirror_mode": {
    "name": "ipython",
    "version": 3
   },
   "file_extension": ".py",
   "mimetype": "text/x-python",
   "name": "python",
   "nbconvert_exporter": "python",
   "pygments_lexer": "ipython3",
   "version": "3.12.5"
  }
 },
 "nbformat": 4,
 "nbformat_minor": 2
}
