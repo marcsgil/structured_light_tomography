{
 "cells": [
  {
   "cell_type": "code",
   "execution_count": 1,
   "metadata": {},
   "outputs": [
    {
     "name": "stdout",
     "output_type": "stream",
     "text": [
      "Detected IPython. Loading juliacall extension. See https://juliapy.github.io/PythonCall.jl/stable/compat/#IPython\n"
     ]
    }
   ],
   "source": [
    "from keras.models import load_model\n",
    "import keras\n",
    "import numpy as np\n",
    "from h5py import File\n",
    "from juliacall import Main as jl\n",
    "import matplotlib.pyplot as plt\n",
    "jl.seval(\"using BayesianTomography\")"
   ]
  },
  {
   "cell_type": "code",
   "execution_count": 2,
   "metadata": {},
   "outputs": [],
   "source": [
    "trials = 1\n",
    "\n",
    "final_fids = np.empty(trials, dtype=\"float32\")\n",
    "final_stds = np.empty(trials, dtype=\"float32\")\n",
    "\n",
    "orders = range(5,6)\n",
    "\n",
    "for m in range(len(orders)):\n",
    "    order = orders[m]\n",
    "\n",
    "    with File('../Data/Processed/fixed_order_intense.h5') as f:\n",
    "        direct = keras.layers.Resizing(64, 64)(\n",
    "            f[f'images_order{order}'][:, 0, :, :])\n",
    "        converted = keras.layers.Resizing(64, 64)(\n",
    "            f[f'images_order{order}'][:, 1, :, :])\n",
    "        rho = np.conj(f[f'labels_order{order}'][:])\n",
    "\n",
    "    x = np.stack((direct, converted), axis=1)\n",
    "    mu = x.mean(axis=(-1, -2), keepdims=True)\n",
    "    sigma = x.std(axis=(-1, -2), keepdims=True)\n",
    "    x = (x - mu) / sigma\n",
    "\n",
    "    fids = np.empty((trials, rho.shape[0]), dtype=\"float32\")\n",
    "\n",
    "    for m in range(trials):\n",
    "        trial = m+1\n",
    "        model = load_model(\n",
    "            f\"TrainedModels/FixedOrderIntense/order{order}_trial{trial}.keras\")\n",
    "\n",
    "        y_pred = np.array(model(x))\n",
    "\n",
    "        for n in np.arange(fids.shape[1]):\n",
    "            rho_pred = jl.density_matrix_reconstruction(y_pred[n])\n",
    "            fids[m, n] = jl.fidelity(rho[n], rho_pred)\n",
    "\n",
    "    mean_fids = fids.mean(axis=1)\n",
    "    j = mean_fids.argmax()\n",
    "\n",
    "    final_fids[m] = mean_fids[j]\n",
    "    final_stds[m] = fids.std(axis=1)[j]"
   ]
  },
  {
   "cell_type": "code",
   "execution_count": 3,
   "metadata": {},
   "outputs": [
    {
     "name": "stdout",
     "output_type": "stream",
     "text": [
      "Order 5: 0.7747734 +/- 0.10758743\n"
     ]
    }
   ],
   "source": [
    "for m in range(len(orders)):\n",
    "    order = orders[m]\n",
    "    print(f'Order {order}:', final_fids[m], '+/-', final_stds[m])"
   ]
  },
  {
   "cell_type": "code",
   "execution_count": null,
   "metadata": {},
   "outputs": [],
   "source": []
  }
 ],
 "metadata": {
  "kernelspec": {
   "display_name": ".venv",
   "language": "python",
   "name": "python3"
  },
  "language_info": {
   "codemirror_mode": {
    "name": "ipython",
    "version": 3
   },
   "file_extension": ".py",
   "mimetype": "text/x-python",
   "name": "python",
   "nbconvert_exporter": "python",
   "pygments_lexer": "ipython3",
   "version": "3.12.5"
  }
 },
 "nbformat": 4,
 "nbformat_minor": 2
}
